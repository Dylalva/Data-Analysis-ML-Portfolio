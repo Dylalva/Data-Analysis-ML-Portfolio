{
 "cells": [
  {
   "cell_type": "markdown",
   "id": "5df3bce2-3aff-46ba-9bbb-9c3a6f0be16b",
   "metadata": {},
   "source": [
    "# Predicción del precio de los coches usados\n",
    "## Acerca del conjunto de datos\n",
    "Conjunto de datos para la estimación del precio de los coches usados\n",
    "### Descripción general\n",
    "\n",
    "Este conjunto de datos contiene 10 000 entradas realistas de coches usados con diversas características, como el kilometraje, el tamaño del motor, el número de propietarios anteriores, el tipo de combustible y mucho más. Está diseñado para tareas de regresión cuyo objetivo es predecir el precio de reventa de un coche en dólares estadounidenses.\n",
    "\n",
    "Es perfecto para:\n",
    "\n",
    "Practicar modelos de regresión\n",
    "    Explorar la importancia de las características\n",
    "    Crear paneles interactivos\n",
    "    Entrenar modelos de aprendizaje automático para la predicción de precios en el mundo real\n",
    "\n",
    "## Casos de uso\n",
    "\n",
    "- Regresión: predecir el precio en USD utilizando las demás características.\n",
    "- Ingeniería de características: crear nuevas características como la antigüedad del coche, la puntuación de ahorro de combustible, etc.\n",
    "- Visualización de datos: analizar cómo diferentes factores, como el tamaño del motor o la marca, influyen en el precio.\n",
    "- Análisis exploratorio de datos (EDA): ideal para que los principiantes aprendan a limpiar datos y obtener información.\n",
    "\n",
    "## Formato\n",
    "\n",
    "- Tipo de archivo: CSV.\n",
    "- Filas: 10 000.\n",
    "- Nombre del archivo: used_car_price_dataset_extended.csv\n",
    "\n",
    "## Licencia y créditos\n",
    "\n",
    "Este conjunto de datos se ha generado sintéticamente y no representa los datos de ninguna persona real. Se puede utilizar libremente con fines de aprendizaje, enseñanza y experimentación."
   ]
  },
  {
   "cell_type": "code",
   "execution_count": null,
   "id": "59511286-e6ed-44cb-af1e-d0d220690ecc",
   "metadata": {},
   "outputs": [],
   "source": [
    "import pandas as pd\n",
    "import matplotlib.pyplot as plt\n",
    "import numpy as np\n",
    "import seaborn as sns\n",
    "import joblib\n",
    "import warnings\n",
    "warnings.filterwarnings('ignore')\n",
    "%matplotlib inline"
   ]
  }
 ],
 "metadata": {
  "kernelspec": {
   "display_name": "Python 3 (ipykernel)",
   "language": "python",
   "name": "python3"
  },
  "language_info": {
   "codemirror_mode": {
    "name": "ipython",
    "version": 3
   },
   "file_extension": ".py",
   "mimetype": "text/x-python",
   "name": "python",
   "nbconvert_exporter": "python",
   "pygments_lexer": "ipython3",
   "version": "3.9.23"
  }
 },
 "nbformat": 4,
 "nbformat_minor": 5
}
